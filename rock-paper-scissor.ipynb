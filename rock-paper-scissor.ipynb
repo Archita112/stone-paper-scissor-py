{
 "cells": [
  {
   "cell_type": "code",
   "execution_count": 6,
   "id": "b2584096-5781-4001-8b27-6c9d3f3a2e3b",
   "metadata": {},
   "outputs": [
    {
     "name": "stdout",
     "output_type": "stream",
     "text": [
      "Choose : \n",
      " 1. rock \n",
      " 2. scissor \n",
      " 3. paper\n",
      "\n"
     ]
    },
    {
     "name": "stdin",
     "output_type": "stream",
     "text": [
      " 3\n"
     ]
    },
    {
     "name": "stdout",
     "output_type": "stream",
     "text": [
      "Computer chose 2 therefore\n",
      "You chose Paper!\n",
      "Computer winss!\n",
      "Let's play again\n"
     ]
    }
   ],
   "source": [
    "import random\n",
    "\n",
    "print(\"Choose : \\n 1. rock \\n 2. scissor \\n 3. paper\\n\")\n",
    "chance = int(input())\n",
    "computer_move = random.randint(1, 3)\n",
    "print(f\"Computer chose {computer_move} therefore\")\n",
    "\n",
    "def conditions(chance):\n",
    "    if (chance == 1):\n",
    "        print(\"You chose Rock!\")\n",
    "        game_ans(computer_move)\n",
    "    elif (chance == 2):\n",
    "        print(\"You chose Scissor!\")\n",
    "        game_ans(computer_move)\n",
    "    elif (chance == 3):\n",
    "        print(\"You chose Paper!\")\n",
    "        game_ans(computer_move)\n",
    "    else:\n",
    "        print(\"Wrong move\")\n",
    "        \n",
    "def game_ans(computer_move):\n",
    "    if (chance == computer_move):\n",
    "        print(\"There's a draw\")\n",
    "    elif ((chance == 1 and computer_move == 2) or (chance == 2 and computer_move == 3) or (chance == 3 and computer_move == 1)):\n",
    "        print(\"You win!\")\n",
    "        print(\"Let's play again\")\n",
    "    elif ((computer_move == 1 and chance == 2) or (computer_move == 2 and chance == 3) or (computer_move == 3 and chance == 1)):\n",
    "        print(\"Computer winss!\")\n",
    "        print(\"Let's play again\")\n",
    "    else:\n",
    "        print(\"Wrong move\")\n",
    "\n",
    "def main():\n",
    "    conditions(chance)\n",
    "    \n",
    "main()"
   ]
  }
 ],
 "metadata": {
  "kernelspec": {
   "display_name": "Python 3 (ipykernel)",
   "language": "python",
   "name": "python3"
  },
  "language_info": {
   "codemirror_mode": {
    "name": "ipython",
    "version": 3
   },
   "file_extension": ".py",
   "mimetype": "text/x-python",
   "name": "python",
   "nbconvert_exporter": "python",
   "pygments_lexer": "ipython3",
   "version": "3.12.1"
  }
 },
 "nbformat": 4,
 "nbformat_minor": 5
}
